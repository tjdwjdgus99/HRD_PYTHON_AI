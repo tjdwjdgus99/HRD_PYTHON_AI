{
 "cells": [
  {
   "cell_type": "code",
   "execution_count": 1,
   "id": "5aab4f35-30b3-4749-9673-d759133e3cb3",
   "metadata": {},
   "outputs": [],
   "source": [
    "import tensorflow as tf"
   ]
  },
  {
   "cell_type": "code",
   "execution_count": 2,
   "id": "1e228307-f0d4-436c-966d-b3444719d16c",
   "metadata": {},
   "outputs": [
    {
     "name": "stdout",
     "output_type": "stream",
     "text": [
      "Epoch 1/5\n",
      "1875/1875 [==============================] - 3s 1ms/step - loss: 0.2568 - accuracy: 0.9271\n",
      "Epoch 2/5\n",
      "1875/1875 [==============================] - 3s 1ms/step - loss: 0.1126 - accuracy: 0.9668\n",
      "Epoch 3/5\n",
      "1875/1875 [==============================] - 3s 1ms/step - loss: 0.0771 - accuracy: 0.9772\n",
      "Epoch 4/5\n",
      "1875/1875 [==============================] - 3s 1ms/step - loss: 0.0586 - accuracy: 0.9825\n",
      "Epoch 5/5\n",
      "1875/1875 [==============================] - 3s 1ms/step - loss: 0.0441 - accuracy: 0.9862\n"
     ]
    },
    {
     "data": {
      "text/plain": [
       "<keras.src.callbacks.History at 0x227a1d72130>"
      ]
     },
     "execution_count": 2,
     "metadata": {},
     "output_type": "execute_result"
    }
   ],
   "source": [
    "mnist = tf.keras.datasets.mnist\n",
    "(x_train, y_train),(x_test,y_test) = mnist.load_data()\n",
    "\n",
    "x_train , x_test = x_train/255.0, x_test/255.0\n",
    "\n",
    "mlp_model = tf.keras.Sequential([\n",
    "    tf.keras.layers.Flatten(input_shape=(28,28)),\n",
    "    tf.keras.layers.Dense(128,activation='relu'),\n",
    "    tf.keras.layers.Dense(10,activation='softmax')\n",
    "])\n",
    "\n",
    "mlp_model.compile(optimizer='adam', loss = 'sparse_categorical_crossentropy', metrics=['accuracy'])\n",
    "mlp_model.fit(x_train,y_train,epochs=5)"
   ]
  },
  {
   "cell_type": "code",
   "execution_count": 3,
   "id": "1977b1e2-b91a-4040-8c66-c64a061228bd",
   "metadata": {},
   "outputs": [
    {
     "name": "stdout",
     "output_type": "stream",
     "text": [
      "313/313 [==============================] - 0s 959us/step - loss: 0.0735 - accuracy: 0.9796\n"
     ]
    },
    {
     "data": {
      "text/plain": [
       "[0.0735325962305069, 0.9796000123023987]"
      ]
     },
     "execution_count": 3,
     "metadata": {},
     "output_type": "execute_result"
    }
   ],
   "source": [
    "mlp_model.evaluate(x_test,y_test)"
   ]
  },
  {
   "cell_type": "code",
   "execution_count": 4,
   "id": "136cd21a-189e-42f8-85f9-ca48e3ba2381",
   "metadata": {},
   "outputs": [
    {
     "name": "stdout",
     "output_type": "stream",
     "text": [
      "INFO:tensorflow:Assets written to: C:\\Users\\Public\\Documents\\ESTsoft\\CreatorTemp\\tmpmnjjjywj\\assets\n"
     ]
    },
    {
     "name": "stderr",
     "output_type": "stream",
     "text": [
      "INFO:tensorflow:Assets written to: C:\\Users\\Public\\Documents\\ESTsoft\\CreatorTemp\\tmpmnjjjywj\\assets\n"
     ]
    }
   ],
   "source": [
    "converter = tf.lite.TFLiteConverter.from_keras_model(mlp_model)\n",
    "tflite_model = converter.convert()"
   ]
  },
  {
   "cell_type": "code",
   "execution_count": 5,
   "id": "a64b0a6e-7b4f-4206-bd91-37ff43c8c789",
   "metadata": {},
   "outputs": [],
   "source": [
    "with open('./mnist_model.tflite','wb') as f:\n",
    "    f.write(tflite_model)"
   ]
  },
  {
   "cell_type": "code",
   "execution_count": 6,
   "id": "4a4f50d8-4730-43eb-87b6-8a31e19d7961",
   "metadata": {},
   "outputs": [],
   "source": [
    "# tf.saved_model.save(mlp_model,\"./mlp_model/\")"
   ]
  },
  {
   "cell_type": "code",
   "execution_count": 7,
   "id": "45e62327-0228-4ad3-bece-89325fa7fd3f",
   "metadata": {},
   "outputs": [
    {
     "name": "stdout",
     "output_type": "stream",
     "text": [
      "INFO:tensorflow:Assets written to: ./mlp_model2/assets\n"
     ]
    },
    {
     "name": "stderr",
     "output_type": "stream",
     "text": [
      "INFO:tensorflow:Assets written to: ./mlp_model2/assets\n"
     ]
    }
   ],
   "source": [
    "mlp_model.save(\"./mlp_model2/\")"
   ]
  },
  {
   "cell_type": "code",
   "execution_count": 8,
   "id": "6f41980e-be00-4c31-9460-1cf9777cc69c",
   "metadata": {},
   "outputs": [],
   "source": [
    "saved_model = tf.keras.models.load_model(\"./mlp_model2/\")"
   ]
  },
  {
   "cell_type": "code",
   "execution_count": 9,
   "id": "87fca741-ac2c-4f6f-a360-5853b3d63c83",
   "metadata": {},
   "outputs": [],
   "source": [
    "converter = tf.lite.TFLiteConverter.from_saved_model(\"./mlp_model2/\")\n",
    "tflite_model = converter.convert()"
   ]
  },
  {
   "cell_type": "code",
   "execution_count": 10,
   "id": "38652ddb-352b-43dd-ac38-d24d795fde0e",
   "metadata": {},
   "outputs": [],
   "source": [
    "with open('./saved_model.tflite','wb') as f:\n",
    "    f.write(tflite_model)"
   ]
  },
  {
   "cell_type": "code",
   "execution_count": 11,
   "id": "d82ac03a-e449-47d0-8f2c-df49fdb15828",
   "metadata": {},
   "outputs": [],
   "source": [
    "class Inc(tf.keras.layers.Layer):\n",
    "    def call(self, inputs):\n",
    "        return inputs + 1\n",
    "inc = Inc()"
   ]
  },
  {
   "cell_type": "code",
   "execution_count": 12,
   "id": "4878f3f3-f93c-4637-9406-e7911f5f5b22",
   "metadata": {},
   "outputs": [],
   "source": [
    "class Inc_Graph(tf.keras.layers.Layer):\n",
    "    @tf.function\n",
    "    def call(self, inputs):\n",
    "        return inputs + 1\n",
    "inc_g = Inc_Graph()"
   ]
  },
  {
   "cell_type": "code",
   "execution_count": 13,
   "id": "684ec050-e454-427a-b2ae-f0733270683b",
   "metadata": {},
   "outputs": [],
   "source": [
    "inc_g2 = tf.function(inc)"
   ]
  },
  {
   "cell_type": "code",
   "execution_count": 14,
   "id": "e3117a16-1f1a-402a-a77f-9908eda185aa",
   "metadata": {},
   "outputs": [
    {
     "name": "stdout",
     "output_type": "stream",
     "text": [
      "tf.Tensor(4, shape=(), dtype=int32)\n",
      "tf.Tensor([4 3], shape=(2,), dtype=int32)\n"
     ]
    }
   ],
   "source": [
    "print(inc_g(tf.constant(3)))\n",
    "print(inc_g(tf.constant([3,2])))"
   ]
  },
  {
   "cell_type": "code",
   "execution_count": 15,
   "id": "22f7f9e3-65b1-46e6-a872-5da714aee4d7",
   "metadata": {},
   "outputs": [],
   "source": [
    "concrete_fun = inc_g.call.get_concrete_function(tf.TensorSpec(shape=(1,3),dtype=tf.float32))"
   ]
  },
  {
   "cell_type": "code",
   "execution_count": 16,
   "id": "aa556865-01be-43fb-a74b-90698f02e0b6",
   "metadata": {},
   "outputs": [
    {
     "name": "stdout",
     "output_type": "stream",
     "text": [
      "tf.Tensor([2. 3. 4.], shape=(3,), dtype=float32)\n"
     ]
    }
   ],
   "source": [
    "print(concrete_fun(tf.constant([1.0,2.0,3.0])))"
   ]
  },
  {
   "cell_type": "code",
   "execution_count": 17,
   "id": "2fd8aadf-52a3-4620-ac48-884e66332664",
   "metadata": {},
   "outputs": [],
   "source": [
    "mlp_model = tf.keras.models.Sequential([\n",
    "    tf.keras.layers.Flatten(input_shape=(28,28)),\n",
    "    tf.keras.layers.Dense(128,activation='relu'),\n",
    "    tf.keras.layers.Dense(10,activation='softmax')\n",
    "])"
   ]
  },
  {
   "cell_type": "code",
   "execution_count": 18,
   "id": "f2b7e1e3-9e62-42c2-8aa0-5cb235cdc189",
   "metadata": {},
   "outputs": [],
   "source": [
    "graph_model = tf.function(mlp_model)\n",
    "concrete_function = tf.function(mlp_model)\n",
    "concrete_func = graph_model.get_concrete_function(tf.TensorSpec(shape=mlp_model.inputs[0].shape,dtype=mlp_model.input[0].dtype))"
   ]
  },
  {
   "cell_type": "code",
   "execution_count": 19,
   "id": "70f0ccb7-e1f5-41a8-9af5-a17fe2c32f14",
   "metadata": {
    "scrolled": true
   },
   "outputs": [
    {
     "name": "stdout",
     "output_type": "stream",
     "text": [
      "ConcreteFunction call(inputs)\n",
      "  Args:\n",
      "    inputs: float32 Tensor, shape=(None, 28, 28)\n",
      "  Returns:\n",
      "    float32 Tensor, shape=(None, 10)\n"
     ]
    }
   ],
   "source": [
    "class MLP_Model(tf.keras.Model):\n",
    "    def __init__(self):\n",
    "        super(MLP_Model, self).__init__()\n",
    "        self.flatten = tf.keras.layers.Flatten()\n",
    "        self.dense = tf.keras.layers.Dense(128, activation='relu')\n",
    "        self.softmax = tf.keras.layers.Dense(10, activation='softmax')\n",
    "        \n",
    "    @tf.function\n",
    "    def call(self, inputs):\n",
    "        x = self.flatten(inputs)\n",
    "        x = self.dense(x)\n",
    "        return self.softmax(x)\n",
    "\n",
    "# Create an instance of the model\n",
    "mlp_model = MLP_Model()\n",
    "\n",
    "# Define input shape and dtype\n",
    "input_shape = (None, 28, 28)\n",
    "input_dtype = tf.float32\n",
    "\n",
    "# Create a concrete function using the model's input signature\n",
    "concrete_func = mlp_model.call.get_concrete_function(tf.TensorSpec(shape=input_shape, dtype=input_dtype))\n",
    "\n",
    "# Print the concrete function\n",
    "print(concrete_func)\n"
   ]
  },
  {
   "cell_type": "code",
   "execution_count": null,
   "id": "c7633581-6ad6-46f3-ba37-932033b96b74",
   "metadata": {},
   "outputs": [],
   "source": []
  }
 ],
 "metadata": {
  "kernelspec": {
   "display_name": "Python 3 (ipykernel)",
   "language": "python",
   "name": "python3"
  },
  "language_info": {
   "codemirror_mode": {
    "name": "ipython",
    "version": 3
   },
   "file_extension": ".py",
   "mimetype": "text/x-python",
   "name": "python",
   "nbconvert_exporter": "python",
   "pygments_lexer": "ipython3",
   "version": "3.8.17"
  }
 },
 "nbformat": 4,
 "nbformat_minor": 5
}
