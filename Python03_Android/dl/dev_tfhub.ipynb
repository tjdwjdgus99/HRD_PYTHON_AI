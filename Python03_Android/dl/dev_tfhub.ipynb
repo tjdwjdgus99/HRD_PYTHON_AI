{
 "cells": [
  {
   "cell_type": "code",
   "execution_count": 1,
   "id": "91db937e-cf21-47c6-b4d3-403dbbbebc39",
   "metadata": {},
   "outputs": [],
   "source": [
    "import tensorflow_datasets as tfds"
   ]
  },
  {
   "cell_type": "code",
   "execution_count": 6,
   "id": "ad46e696-4ed1-49c5-8746-fe5e67cf4479",
   "metadata": {},
   "outputs": [],
   "source": [
    "tfds.disable_progress_bar()\n",
    "\n",
    "raw_train,raw_test=tfds.load(\n",
    "    'cats_vs_dogs',\n",
    "    split=['train[:80%]','train[20%:]'],\n",
    "    as_supervised=True\n",
    ")"
   ]
  },
  {
   "cell_type": "code",
   "execution_count": 8,
   "id": "c08f0783-4d63-4680-bbc9-3bcfe79d72c4",
   "metadata": {},
   "outputs": [],
   "source": [
    "import numpy as np\n",
    "import tensorflow as tf"
   ]
  },
  {
   "cell_type": "code",
   "execution_count": 22,
   "id": "248d1a85-f1e4-4230-b07d-ca8222a446b2",
   "metadata": {},
   "outputs": [],
   "source": [
    "def preprocess(image,label):\n",
    "    out_image = tf.image.resize(image/255,[224,224])\n",
    "    return out_image, label\n",
    "batch_size = 32\n",
    "train_batch = raw_train.map(preprocess).batch(batch_size)\n",
    "test_batch = raw_test.map(preprocess).batch(batch_size)"
   ]
  },
  {
   "cell_type": "code",
   "execution_count": 23,
   "id": "50fb7d9c-c6cd-43f1-ba17-c10fd7c63b3b",
   "metadata": {},
   "outputs": [],
   "source": [
    "import tensorflow_hub as hub"
   ]
  },
  {
   "cell_type": "code",
   "execution_count": 24,
   "id": "03c6a040-9860-48bd-b294-287b6d33a673",
   "metadata": {},
   "outputs": [],
   "source": [
    "url = \"https://tfhub.dev/google/imagenet/mobilenet_v2_100_224/feature_vector/5\""
   ]
  },
  {
   "cell_type": "code",
   "execution_count": 25,
   "id": "aee70bbe-089e-4bce-829f-7aef19b5d26d",
   "metadata": {},
   "outputs": [],
   "source": [
    "hub_model_transfer = tf.keras.Sequential([\n",
    "    hub.KerasLayer(url, input_shape=(224, 224, 3), trainable=False),  # Input size should be 224x224\n",
    "    tf.keras.layers.Dense(1)\n",
    "])"
   ]
  },
  {
   "cell_type": "code",
   "execution_count": 27,
   "id": "2f701801-d4f1-4031-b6f6-72a99b8a69aa",
   "metadata": {},
   "outputs": [
    {
     "name": "stdout",
     "output_type": "stream",
     "text": [
      "582/582 [==============================] - 271s 464ms/step - loss: 0.2099 - accuracy: 0.9811\n"
     ]
    },
    {
     "data": {
      "text/plain": [
       "<keras.src.callbacks.History at 0x2594c1c0c10>"
      ]
     },
     "execution_count": 27,
     "metadata": {},
     "output_type": "execute_result"
    }
   ],
   "source": [
    "hub_model_transfer.compile(optimizer='adam',loss='binary_crossentropy',metrics=['accuracy'])\n",
    "hub_model_transfer.fit(train_batch,epochs=1)"
   ]
  },
  {
   "cell_type": "code",
   "execution_count": 28,
   "id": "0e44602b-6b9d-4d60-8ec9-b3f901c49b28",
   "metadata": {},
   "outputs": [
    {
     "name": "stdout",
     "output_type": "stream",
     "text": [
      "582/582 - 276s - loss: 0.5090 - accuracy: 0.9494 - 276s/epoch - 474ms/step\n"
     ]
    },
    {
     "data": {
      "text/plain": [
       "[0.508965253829956, 0.9494357705116272]"
      ]
     },
     "execution_count": 28,
     "metadata": {},
     "output_type": "execute_result"
    }
   ],
   "source": [
    "hub_model_transfer.evaluate(test_batch, verbose=2)"
   ]
  },
  {
   "cell_type": "code",
   "execution_count": null,
   "id": "f88c551b-38e5-456c-9df5-527cc1523d88",
   "metadata": {},
   "outputs": [],
   "source": []
  }
 ],
 "metadata": {
  "kernelspec": {
   "display_name": "Python 3 (ipykernel)",
   "language": "python",
   "name": "python3"
  },
  "language_info": {
   "codemirror_mode": {
    "name": "ipython",
    "version": 3
   },
   "file_extension": ".py",
   "mimetype": "text/x-python",
   "name": "python",
   "nbconvert_exporter": "python",
   "pygments_lexer": "ipython3",
   "version": "3.8.17"
  }
 },
 "nbformat": 4,
 "nbformat_minor": 5
}
