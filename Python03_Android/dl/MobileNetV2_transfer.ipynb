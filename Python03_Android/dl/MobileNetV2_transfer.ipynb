{
 "cells": [
  {
   "cell_type": "code",
   "execution_count": 1,
   "id": "7094d4bc-636a-44a9-b288-c1a54887b792",
   "metadata": {},
   "outputs": [],
   "source": [
    "import tensorflow_datasets as tfds\n",
    "import tensorflow as tf"
   ]
  },
  {
   "cell_type": "code",
   "execution_count": 2,
   "id": "019acd38-11b4-4799-8f2d-96ff1b610d50",
   "metadata": {},
   "outputs": [],
   "source": [
    "tfds.disable_progress_bar()\n",
    "\n",
    "raw_train, raw_test = tfds.load('cats_vs_dogs',split=['train[:80%]','train[20%:]'], as_supervised=True)"
   ]
  },
  {
   "cell_type": "code",
   "execution_count": 3,
   "id": "c3dec1dd-1f13-4b1f-8f5f-499e33c0746a",
   "metadata": {},
   "outputs": [
    {
     "name": "stderr",
     "output_type": "stream",
     "text": [
      "WARNING:absl:You use TensorFlow DType <dtype: 'uint8'> in tfds.features This will soon be deprecated in favor of NumPy DTypes. In the meantime it was converted to uint8.\n"
     ]
    },
    {
     "data": {
      "text/plain": [
       "FeaturesDict({\n",
       "    'image': Image(shape=(None, None, 3), dtype=uint8),\n",
       "    'image/filename': Text(shape=(), dtype=string),\n",
       "    'label': ClassLabel(shape=(), dtype=int64, num_classes=2),\n",
       "})"
      ]
     },
     "execution_count": 3,
     "metadata": {},
     "output_type": "execute_result"
    }
   ],
   "source": [
    "tfds.features.FeaturesDict({\n",
    "    'image': tfds.features.Image(shape=(None, None, 3), dtype=tf.uint8),\n",
    "    'image/filename': tfds.features.Text(),  # Text type for filename\n",
    "    'label': tfds.features.ClassLabel(num_classes=2),})"
   ]
  },
  {
   "cell_type": "code",
   "execution_count": 4,
   "id": "acd5a4a1-6143-4fb7-86bf-dda40f87cd52",
   "metadata": {},
   "outputs": [],
   "source": [
    "import numpy as np\n",
    "import tensorflow as tf\n",
    "from tensorflow.image import ResizeMethod"
   ]
  },
  {
   "cell_type": "code",
   "execution_count": 5,
   "id": "6c379c4f-b799-44bd-97e7-086c881f5bb5",
   "metadata": {},
   "outputs": [],
   "source": [
    "def preprocess(image,label):\n",
    "    out_image = tf.image.resize(image,[244,244],method=ResizeMethod.BICUBIC)\n",
    "    out_image = tf.keras.applications.mobilenet_v2.preprocess_input(out_image)\n",
    "    return out_image, label\n",
    "batch_size = 32\n",
    "train_batch = raw_train.map(preprocess).batch(batch_size)\n",
    "test_batch = raw_test.map(preprocess).batch(batch_size)"
   ]
  },
  {
   "cell_type": "code",
   "execution_count": 6,
   "id": "95a07c03-3d81-4fbe-9819-e3dcab0d1757",
   "metadata": {},
   "outputs": [
    {
     "name": "stdout",
     "output_type": "stream",
     "text": [
      "WARNING:tensorflow:`input_shape` is undefined or non-square, or `rows` is not in [96, 128, 160, 192, 224]. Weights for input shape (224, 224) will be loaded as the default.\n"
     ]
    },
    {
     "name": "stderr",
     "output_type": "stream",
     "text": [
      "WARNING:tensorflow:`input_shape` is undefined or non-square, or `rows` is not in [96, 128, 160, 192, 224]. Weights for input shape (224, 224) will be loaded as the default.\n"
     ]
    }
   ],
   "source": [
    "mobilenet_base = tf.keras.applications.MobileNetV2(\n",
    "    input_shape=(244, 244, 3),  # Input size should be 224x224\n",
    "    weights=\"imagenet\",\n",
    "    include_top=False)\n",
    "mobilenet_base.trainable = False\n",
    "\n",
    "mobilenet_model = tf.keras.Sequential([\n",
    "    mobilenet_base,\n",
    "    tf.keras.layers.GlobalAveragePooling2D(),\n",
    "    tf.keras.layers.Dense(1)\n",
    "])\n"
   ]
  },
  {
   "cell_type": "code",
   "execution_count": 8,
   "id": "c2e3de45-472d-40cf-9c9a-b59e0e33ff48",
   "metadata": {},
   "outputs": [],
   "source": [
    "mobilenet_model.compile(optimizer='adam',\n",
    "                        loss='binary_crossentropy',\n",
    "                        metrics=['accuracy'])"
   ]
  },
  {
   "cell_type": "code",
   "execution_count": 10,
   "id": "5fb830a0-ea95-4989-b20c-5d0e4403ce66",
   "metadata": {},
   "outputs": [
    {
     "name": "stdout",
     "output_type": "stream",
     "text": [
      "Epoch 1/5\n",
      "582/582 [==============================] - 368s 628ms/step - loss: 0.2645 - accuracy: 0.9633\n",
      "Epoch 2/5\n",
      "582/582 [==============================] - 368s 632ms/step - loss: 0.1443 - accuracy: 0.9827\n",
      "Epoch 3/5\n",
      "582/582 [==============================] - 368s 633ms/step - loss: 0.1830 - accuracy: 0.9811\n",
      "Epoch 4/5\n",
      "582/582 [==============================] - 367s 630ms/step - loss: 0.1325 - accuracy: 0.9853\n",
      "Epoch 5/5\n",
      "582/582 [==============================] - 366s 628ms/step - loss: 0.1035 - accuracy: 0.9896\n"
     ]
    },
    {
     "data": {
      "text/plain": [
       "<keras.src.callbacks.History at 0x293fc799670>"
      ]
     },
     "execution_count": 10,
     "metadata": {},
     "output_type": "execute_result"
    }
   ],
   "source": [
    "mobilenet_model.fit(train_batch,epochs=5)"
   ]
  },
  {
   "cell_type": "code",
   "execution_count": 12,
   "id": "fdaa7206-770b-4885-bae1-1bbdd36db77d",
   "metadata": {},
   "outputs": [
    {
     "name": "stdout",
     "output_type": "stream",
     "text": [
      "582/582 - 371s - loss: 0.0939 - accuracy: 0.9911 - 371s/epoch - 637ms/step\n"
     ]
    },
    {
     "data": {
      "text/plain": [
       "[0.09388027340173721, 0.9910800457000732]"
      ]
     },
     "execution_count": 12,
     "metadata": {},
     "output_type": "execute_result"
    }
   ],
   "source": [
    "mobilenet_model.evaluate(test_batch,verbose=2)"
   ]
  },
  {
   "cell_type": "code",
   "execution_count": null,
   "id": "430b1c81-cca7-47e8-a9eb-3c652b892b34",
   "metadata": {},
   "outputs": [],
   "source": []
  }
 ],
 "metadata": {
  "kernelspec": {
   "display_name": "Python 3 (ipykernel)",
   "language": "python",
   "name": "python3"
  },
  "language_info": {
   "codemirror_mode": {
    "name": "ipython",
    "version": 3
   },
   "file_extension": ".py",
   "mimetype": "text/x-python",
   "name": "python",
   "nbconvert_exporter": "python",
   "pygments_lexer": "ipython3",
   "version": "3.8.17"
  }
 },
 "nbformat": 4,
 "nbformat_minor": 5
}
